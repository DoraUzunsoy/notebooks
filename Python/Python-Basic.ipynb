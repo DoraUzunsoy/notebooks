{
 "cells": [
  {
   "cell_type": "markdown",
   "metadata": {},
   "source": [
    " # Python Giriş"
   ]
  },
  {
   "cell_type": "markdown",
   "metadata": {},
   "source": [
    "## print fonksiyonu  "
   ]
  },
  {
   "cell_type": "markdown",
   "metadata": {},
   "source": [
    "Ekrana herhangi bir şey bastırmak istediğimizde kullanacağımız fonksiyon 'print' fonsiyonudur."
   ]
  },
  {
   "cell_type": "code",
   "execution_count": 1,
   "metadata": {
    "collapsed": false
   },
   "outputs": [
    {
     "name": "stdout",
     "output_type": "stream",
     "text": [
      "Merhaba Dünya\n"
     ]
    }
   ],
   "source": [
    "print \"Merhaba Dünya\""
   ]
  },
  {
   "cell_type": "code",
   "execution_count": 2,
   "metadata": {
    "collapsed": false,
    "scrolled": true
   },
   "outputs": [
    {
     "name": "stdout",
     "output_type": "stream",
     "text": [
      "Ben \"Python en iyidir\" derim.\n"
     ]
    }
   ],
   "source": [
    "print \"Ben \\\"Python en iyidir\\\" derim.\""
   ]
  },
  {
   "cell_type": "markdown",
   "metadata": {},
   "source": [
    "## Sayılar ve Aritmetik İşlemler"
   ]
  },
  {
   "cell_type": "code",
   "execution_count": 3,
   "metadata": {
    "collapsed": false
   },
   "outputs": [
    {
     "data": {
      "text/plain": [
       "5"
      ]
     },
     "execution_count": 3,
     "metadata": {},
     "output_type": "execute_result"
    }
   ],
   "source": [
    "3 + 2"
   ]
  },
  {
   "cell_type": "markdown",
   "metadata": {},
   "source": [
    "##### İşlem önceliği vardır."
   ]
  },
  {
   "cell_type": "code",
   "execution_count": 4,
   "metadata": {
    "collapsed": false
   },
   "outputs": [
    {
     "data": {
      "text/plain": [
       "13"
      ]
     },
     "execution_count": 4,
     "metadata": {},
     "output_type": "execute_result"
    }
   ],
   "source": [
    "5 * 2 + 3"
   ]
  },
  {
   "cell_type": "markdown",
   "metadata": {},
   "source": [
    "##### Üst alma"
   ]
  },
  {
   "cell_type": "code",
   "execution_count": 5,
   "metadata": {
    "collapsed": false
   },
   "outputs": [
    {
     "data": {
      "text/plain": [
       "27"
      ]
     },
     "execution_count": 5,
     "metadata": {},
     "output_type": "execute_result"
    }
   ],
   "source": [
    "3 ** 3"
   ]
  },
  {
   "cell_type": "markdown",
   "metadata": {},
   "source": [
    "##### Kalan bulma"
   ]
  },
  {
   "cell_type": "code",
   "execution_count": 8,
   "metadata": {
    "collapsed": false
   },
   "outputs": [
    {
     "data": {
      "text/plain": [
       "1"
      ]
     },
     "execution_count": 8,
     "metadata": {},
     "output_type": "execute_result"
    }
   ],
   "source": [
    " 7 % 3"
   ]
  },
  {
   "cell_type": "markdown",
   "metadata": {},
   "source": [
    "##### Eğer sayıları tırnak içinde yazarsak sistem sayı olarak değil string olarak algılayacak ve yan yana getirecektir."
   ]
  },
  {
   "cell_type": "code",
   "execution_count": 10,
   "metadata": {
    "collapsed": false
   },
   "outputs": [
    {
     "data": {
      "text/plain": [
       "'2555'"
      ]
     },
     "execution_count": 10,
     "metadata": {},
     "output_type": "execute_result"
    }
   ],
   "source": [
    "\"25\" + \"55\""
   ]
  },
  {
   "cell_type": "code",
   "execution_count": 11,
   "metadata": {
    "collapsed": false
   },
   "outputs": [
    {
     "data": {
      "text/plain": [
       "2"
      ]
     },
     "execution_count": 11,
     "metadata": {},
     "output_type": "execute_result"
    }
   ],
   "source": [
    "5 / 2"
   ]
  },
  {
   "cell_type": "markdown",
   "metadata": {},
   "source": [
    "##### Sayılardan birisi tam sayı yerine küsüratlı sayı olursa sonuç küsüratlı çıkacaktır."
   ]
  },
  {
   "cell_type": "code",
   "execution_count": 12,
   "metadata": {
    "collapsed": false
   },
   "outputs": [
    {
     "data": {
      "text/plain": [
       "2.5"
      ]
     },
     "execution_count": 12,
     "metadata": {},
     "output_type": "execute_result"
    }
   ],
   "source": [
    "5.0 / 2"
   ]
  },
  {
   "cell_type": "markdown",
   "metadata": {},
   "source": [
    "## Değişkenler"
   ]
  },
  {
   "cell_type": "code",
   "execution_count": 3,
   "metadata": {
    "collapsed": true
   },
   "outputs": [],
   "source": [
    "n = 5"
   ]
  },
  {
   "cell_type": "code",
   "execution_count": 4,
   "metadata": {
    "collapsed": false
   },
   "outputs": [
    {
     "data": {
      "text/plain": [
       "5"
      ]
     },
     "execution_count": 4,
     "metadata": {},
     "output_type": "execute_result"
    }
   ],
   "source": [
    "n"
   ]
  },
  {
   "cell_type": "markdown",
   "metadata": {},
   "source": [
    "##### Değişkenler kullanılarak da işlem yapılabilir."
   ]
  },
  {
   "cell_type": "code",
   "execution_count": 5,
   "metadata": {
    "collapsed": false
   },
   "outputs": [
    {
     "data": {
      "text/plain": [
       "10"
      ]
     },
     "execution_count": 5,
     "metadata": {},
     "output_type": "execute_result"
    }
   ],
   "source": [
    "n * 2"
   ]
  },
  {
   "cell_type": "code",
   "execution_count": 6,
   "metadata": {
    "collapsed": true
   },
   "outputs": [],
   "source": [
    "m = 6"
   ]
  },
  {
   "cell_type": "code",
   "execution_count": 7,
   "metadata": {
    "collapsed": false
   },
   "outputs": [
    {
     "data": {
      "text/plain": [
       "30"
      ]
     },
     "execution_count": 7,
     "metadata": {},
     "output_type": "execute_result"
    }
   ],
   "source": [
    "n * m"
   ]
  },
  {
   "cell_type": "markdown",
   "metadata": {},
   "source": [
    "##### Değişkenler karakter dizinleri içine gömülerek de çağırılabilir.\n",
    "Burada, parantez içinde göstereceğimiz her bir öğe için karakter dizisi içine “%s” işaretini ekliyoruz. Karakter dizisini yazdıktan sonra da “%” işaretinin ardından parantez içinde bu işaretlere karşılık gelen değerleri teker teker tanımlıyoruz. Buna göre birinci değerimiz ‘n’ (yani 5), ikincisi ‘m’ (yani 6), üçüncüsü ise bunların çarpımı (yani 5 * 6)...\n",
    "\n"
   ]
  },
  {
   "cell_type": "code",
   "execution_count": 8,
   "metadata": {
    "collapsed": false
   },
   "outputs": [
    {
     "name": "stdout",
     "output_type": "stream",
     "text": [
      "5 ile 6 çarpılırsa 30 elde edilir.\n"
     ]
    }
   ],
   "source": [
    "print \"%s ile %s çarpılırsa %s elde edilir.\" % (n, m, n * m)\n"
   ]
  },
  {
   "cell_type": "code",
   "execution_count": 9,
   "metadata": {
    "collapsed": false
   },
   "outputs": [
    {
     "name": "stdout",
     "output_type": "stream",
     "text": [
      "Python ve Django iyi bir ikilidir.\n"
     ]
    }
   ],
   "source": [
    "print \"%s ve %s iyi bir ikilidir.\" % (\"Python\", \"Django\")"
   ]
  },
  {
   "cell_type": "markdown",
   "metadata": {},
   "source": [
    "##### #!/usr/bin/env python satırı 'shebang' satırıdır ve kodu çalıştıracağımız yeri sisteme belirtir.\n",
    "##### # -*- coding: utf-8 -*- satırı ise türkçe karakter kullanmamızı sağlar."
   ]
  },
  {
   "cell_type": "code",
   "execution_count": 28,
   "metadata": {
    "collapsed": false
   },
   "outputs": [
    {
     "name": "stdout",
     "output_type": "stream",
     "text": [
      "bir kalem bir pergel bir de çikolata alacağım.\n"
     ]
    }
   ],
   "source": [
    "#!/usr/bin/env python\n",
    "\n",
    "# -*- coding: utf-8 -*-\n",
    "\n",
    "a = \"kalem\"\n",
    "b = \"pergel\"\n",
    "c = \"çikolata\"\n",
    "print \"bir\", a, \"bir\", b, \"bir de\", c, \"alacağım.\"\n"
   ]
  },
  {
   "cell_type": "markdown",
   "metadata": {},
   "source": [
    "##### '\\n' kullanarak bir satır aşşağı inebilir veya '\\t' kullanarak bir tab boşluk bırakabiliriz."
   ]
  },
  {
   "cell_type": "code",
   "execution_count": 30,
   "metadata": {
    "collapsed": false,
    "scrolled": true
   },
   "outputs": [
    {
     "name": "stdout",
     "output_type": "stream",
     "text": [
      "Birinci satır\n",
      "İkinci satır\n",
      "Üçüncü satır\n"
     ]
    }
   ],
   "source": [
    "print \"Birinci satır\\nİkinci satır\\nÜçüncü satır\""
   ]
  },
  {
   "cell_type": "code",
   "execution_count": 31,
   "metadata": {
    "collapsed": false,
    "scrolled": true
   },
   "outputs": [
    {
     "name": "stdout",
     "output_type": "stream",
     "text": [
      "Birinci satır\tİkinci satır\tÜçüncü satır\n"
     ]
    }
   ],
   "source": [
    "print \"Birinci satır\\tİkinci satır\\tÜçüncü satır\""
   ]
  },
  {
   "cell_type": "markdown",
   "metadata": {},
   "source": [
    "## Dönüştürme İşlemleri"
   ]
  },
  {
   "cell_type": "code",
   "execution_count": 35,
   "metadata": {
    "collapsed": true
   },
   "outputs": [],
   "source": [
    "a = '23'"
   ]
  },
  {
   "cell_type": "code",
   "execution_count": 33,
   "metadata": {
    "collapsed": false
   },
   "outputs": [
    {
     "data": {
      "text/plain": [
       "23"
      ]
     },
     "execution_count": 33,
     "metadata": {},
     "output_type": "execute_result"
    }
   ],
   "source": [
    "int(a)"
   ]
  },
  {
   "cell_type": "code",
   "execution_count": 34,
   "metadata": {
    "collapsed": false
   },
   "outputs": [
    {
     "data": {
      "text/plain": [
       "23.0"
      ]
     },
     "execution_count": 34,
     "metadata": {},
     "output_type": "execute_result"
    }
   ],
   "source": [
    "float(a)"
   ]
  },
  {
   "cell_type": "code",
   "execution_count": 36,
   "metadata": {
    "collapsed": false
   },
   "outputs": [
    {
     "data": {
      "text/plain": [
       "'23'"
      ]
     },
     "execution_count": 36,
     "metadata": {},
     "output_type": "execute_result"
    }
   ],
   "source": [
    "str(a)"
   ]
  },
  {
   "cell_type": "code",
   "execution_count": 2,
   "metadata": {
    "collapsed": false
   },
   "outputs": [
    {
     "data": {
      "text/plain": [
       "34.0"
      ]
     },
     "execution_count": 2,
     "metadata": {},
     "output_type": "execute_result"
    }
   ],
   "source": [
    "float(\"34\")"
   ]
  },
  {
   "cell_type": "markdown",
   "metadata": {},
   "source": [
    "## Kullanıcı ile veri alış-verişi"
   ]
  },
  {
   "cell_type": "markdown",
   "metadata": {},
   "source": [
    "### input() ve raw_input()"
   ]
  },
  {
   "cell_type": "code",
   "execution_count": 4,
   "metadata": {
    "collapsed": false
   },
   "outputs": [
    {
     "name": "stdout",
     "output_type": "stream",
     "text": [
      "Lütfen bir sayı girin:5\n",
      "Lütfen başka bir sayı daha girin:6\n",
      "11\n"
     ]
    }
   ],
   "source": [
    "#!/usr/bin/env python\n",
    "# -*- coding: utf-8 -*-\n",
    "\n",
    "a = input(\"Lütfen bir sayı girin:\")\n",
    "b = input(\"Lütfen başka bir sayı daha girin:\")\n",
    "print a + b"
   ]
  },
  {
   "cell_type": "code",
   "execution_count": 5,
   "metadata": {
    "collapsed": false
   },
   "outputs": [
    {
     "name": "stdout",
     "output_type": "stream",
     "text": [
      "Lütfen bir sayı girin:5\n",
      "Lütfen başka bir sayı daha girin:6\n",
      "56\n"
     ]
    }
   ],
   "source": [
    "#!/usr/bin/env python\n",
    "# -*- coding: utf-8 -*-\n",
    "\n",
    "a = raw_input(\"Lütfen bir sayı girin:\")\n",
    "b = raw_input(\"Lütfen başka bir sayı daha girin:\")\n",
    "print a + b"
   ]
  },
  {
   "cell_type": "code",
   "execution_count": 6,
   "metadata": {
    "collapsed": false
   },
   "outputs": [
    {
     "name": "stdout",
     "output_type": "stream",
     "text": [
      "Lütfen bir sayı girin:5\n",
      "Lütfen başka bir sayı daha girin:6\n",
      "11\n"
     ]
    }
   ],
   "source": [
    "#!/usr/bin/env python\n",
    "# -*- coding: utf-8 -*-\n",
    "\n",
    "a = int(raw_input(\"Lütfen bir sayı girin:\"))\n",
    "b = int(raw_input(\"Lütfen başka bir sayı daha girin:\"))\n",
    "print a + b"
   ]
  },
  {
   "cell_type": "markdown",
   "metadata": {},
   "source": [
    "##### Buradan anlayabileceğimiz gibi input() ve raw_input() fonksiyonları kullanıcıdan veri almak için kullanılırlar; fakat aralarında çok büyük bir fark vardır. raw_input() fonksiyonu kullanıcının girdiği verileri karakter dizisine dönüştürür. "
   ]
  },
  {
   "cell_type": "code",
   "execution_count": 7,
   "metadata": {
    "collapsed": false,
    "scrolled": true
   },
   "outputs": [
    {
     "name": "stdout",
     "output_type": "stream",
     "text": [
      "Lütfen bir sayı girin:5\n",
      "Lütfen başka bir sayı daha girin:6\n",
      "11.0\n"
     ]
    }
   ],
   "source": [
    "#!/usr/bin/env python\n",
    "# -*- coding: utf-8 -*-\n",
    "\n",
    "a = float(raw_input(\"Lütfen bir sayı girin:\"))\n",
    "b = int(raw_input(\"Lütfen başka bir sayı daha girin:\"))\n",
    "print a + b"
   ]
  },
  {
   "cell_type": "markdown",
   "metadata": {},
   "source": [
    "##### Bu sebepten raw_input() kullanacağımız zaman veri üzerinde dönüştürme işlemi uygulamamız gerekir."
   ]
  },
  {
   "cell_type": "markdown",
   "metadata": {},
   "source": [
    "## Koşula Bağlı Durumlar"
   ]
  },
  {
   "cell_type": "markdown",
   "metadata": {},
   "source": [
    "### if-else-elif"
   ]
  },
  {
   "cell_type": "markdown",
   "metadata": {},
   "source": [
    "##### 'if' sözcüğü ingilizcede 'eğer' anlamına gelmektedir. Bu işlem bize eğer bu durum sağlanıyorsa işlemi yap deme şansı verir."
   ]
  },
  {
   "cell_type": "code",
   "execution_count": null,
   "metadata": {
    "collapsed": true
   },
   "outputs": [],
   "source": [
    "if a == b: # ' == ' ifadesi \"eşit ise\" anlamı taşır.\n",
    "    print \"Değerler eşit.\""
   ]
  },
  {
   "cell_type": "code",
   "execution_count": 11,
   "metadata": {
    "collapsed": false
   },
   "outputs": [
    {
     "name": "stdout",
     "output_type": "stream",
     "text": [
      "a ile b birbirine eşittir.\n"
     ]
    }
   ],
   "source": [
    "#!/usr/bin/env python\n",
    "# -*- coding: utf-8 -*-\n",
    "\n",
    "a = 23\n",
    "b = 23\n",
    "\n",
    "if a == b:\n",
    "    print \"a ile b birbirine eşittir.\""
   ]
  },
  {
   "cell_type": "markdown",
   "metadata": {},
   "source": [
    "##### 'else' ise, if ile tanımlanan koşullu durumlar dışında kalan bütün durumları göstermek için kullanılır."
   ]
  },
  {
   "cell_type": "code",
   "execution_count": 14,
   "metadata": {
    "collapsed": false
   },
   "outputs": [
    {
     "name": "stdout",
     "output_type": "stream",
     "text": [
      "En sevdiğin programlama dili ne?\n",
      "Python\n",
      "Bilgece bir tercih.\n"
     ]
    }
   ],
   "source": [
    "#!/usr/bin/env python\n",
    "# -*- coding: utf-8 -*-\n",
    "\n",
    "dil = raw_input(\"En sevdiğin programlama dili ne?\\n\")\n",
    "\n",
    "if dil == \"Python\":\n",
    "    print \"Bilgece bir tercih.\"\n",
    "else:\n",
    "    print \"Python bilmediğin çok açık.\"\n"
   ]
  },
  {
   "cell_type": "code",
   "execution_count": 16,
   "metadata": {
    "collapsed": false,
    "scrolled": true
   },
   "outputs": [
    {
     "name": "stdout",
     "output_type": "stream",
     "text": [
      "En sevdiğin programlama dili ne?\n",
      "Java\n",
      "Python bilmediğin çok açık.\n"
     ]
    }
   ],
   "source": [
    "#!/usr/bin/env python\n",
    "# -*- coding: utf-8 -*-\n",
    "\n",
    "dil = raw_input(\"En sevdiğin programlama dili ne?\\n\")\n",
    "\n",
    "if dil == \"Python\":\n",
    "    print \"Bilgece bir tercih.\"\n",
    "else:\n",
    "    print \"Python bilmediğin çok açık.\"\n"
   ]
  },
  {
   "cell_type": "markdown",
   "metadata": {},
   "source": [
    "##### Eğer bir durumun gerçekleşmesi birden fazla koşula bağlıysa elif kullanılır."
   ]
  },
  {
   "cell_type": "code",
   "execution_count": 20,
   "metadata": {
    "collapsed": false
   },
   "outputs": [
    {
     "name": "stdout",
     "output_type": "stream",
     "text": [
      "Python biliyor musun?\n",
      " Evet\n",
      "Tebrikler!\n"
     ]
    }
   ],
   "source": [
    "#!/usr/bin/env python\n",
    "# -*- coding: utf-8 -*-\n",
    "\n",
    "cevap = raw_input(\"Python biliyor musun?\\n \")\n",
    "\n",
    "if cevap == \"Evet\":\n",
    "    print \"Tebrikler!\"\n",
    "elif cevap == \"Hayır\":\n",
    "    print \"Geç kalmış sayılmazsın\"\n",
    "else:\n",
    "    print \"Cevap geçerli değil.\""
   ]
  },
  {
   "cell_type": "code",
   "execution_count": 22,
   "metadata": {
    "collapsed": false
   },
   "outputs": [
    {
     "name": "stdout",
     "output_type": "stream",
     "text": [
      "Python biliyor musun?\n",
      " Hayır\n",
      "Geç kalmış sayılmazsın.\n"
     ]
    }
   ],
   "source": [
    "#!/usr/bin/env python\n",
    "# -*- coding: utf-8 -*-\n",
    "\n",
    "cevap = raw_input(\"Python biliyor musun?\\n \")\n",
    "\n",
    "if cevap == \"Evet\":\n",
    "    print \"Tebrikler!\"\n",
    "elif cevap == \"Hayır\":\n",
    "    print \"Geç kalmış sayılmazsın.\"\n",
    "else:\n",
    "    print \"Cevap geçerli değil.\""
   ]
  },
  {
   "cell_type": "code",
   "execution_count": 23,
   "metadata": {
    "collapsed": false
   },
   "outputs": [
    {
     "name": "stdout",
     "output_type": "stream",
     "text": [
      "Python biliyor musun?\n",
      " Belki\n",
      "Cevap geçerli değil.\n"
     ]
    }
   ],
   "source": [
    "#!/usr/bin/env python\n",
    "# -*- coding: utf-8 -*-\n",
    "\n",
    "cevap = raw_input(\"Python biliyor musun?\\n \")\n",
    "\n",
    "if cevap == \"Evet\":\n",
    "    print \"Tebrikler!\"\n",
    "elif cevap == \"Hayır\":\n",
    "    print \"Geç kalmış sayılmazsın\"\n",
    "else:\n",
    "    print \"Cevap geçerli değil.\""
   ]
  },
  {
   "cell_type": "code",
   "execution_count": 24,
   "metadata": {
    "collapsed": false
   },
   "outputs": [
    {
     "name": "stdout",
     "output_type": "stream",
     "text": [
      "100\n",
      "sayi 100'dür\n"
     ]
    }
   ],
   "source": [
    "#!/usr/bin/env python\n",
    "# -*- coding: utf-8 -*-\n",
    "\n",
    "a = int(raw_input())\n",
    "\n",
    "if a == 100:\n",
    "    print \"sayi 100'dür\"\n",
    "elif a <= 150:\n",
    "    print \"sayi 150'den küçüktür\"\n",
    "elif a > 50:\n",
    "    print \"sayi 50'den büyüktür\"\n",
    "elif a <= 100:\n",
    "    print \"sayi 100'den küçüktür veya 100'e eşittir\"\n"
   ]
  },
  {
   "cell_type": "markdown",
   "metadata": {},
   "source": [
    "## Python'da Girintileme\n",
    "##### Yukarıdaki örneklerde koşula bağlı durumlardan sonra :(iki nokta üstüste) kullanıldığını ve alt satıra bir tab boşluk bırakılarak başlandığını fark etmişsinizdir. Bunlar göze güzel gözüksün diye değil, dilin kendi özelliğinden dolayı yapılmıştır. Eğer girintilemeyi doğru kullanmazsanız kodunuz hata verecek ve çalışmayacaktır. "
   ]
  },
  {
   "cell_type": "markdown",
   "metadata": {},
   "source": [
    "## Python'da Döngüler"
   ]
  },
  {
   "cell_type": "markdown",
   "metadata": {},
   "source": [
    "### Operatörler"
   ]
  },
  {
   "cell_type": "markdown",
   "metadata": {},
   "source": [
    "Şimdiye kadar aslında bu işleçlerden birkaç tanesini gördük. Mesela:\n",
    "\n",
    "    + işleci toplama işlemi yapmamızı sağlıyor.\n",
    "\n",
    "    - işleci çıkarma işlemi yapmamızı sağlıyor.\n",
    "\n",
    "    / işleci bölme işlemi yapmamızı sağlıyor.\n",
    "\n",
    "    * işleci çarpma işlemi yapmamızı sağlıyor.\n",
    "\n",
    "    > işleci “büyüktür” anlamına geliyor.\n",
    "\n",
    "    < işleci “küçüktür” anlamına geliyor.\n",
    "\n",
    "Bir de henüz görmediklerimiz, ama bilmemiz gerekenler var:\n",
    "\n",
    "    >= işleci “büyük eşittir” anlamına geliyor.\n",
    "\n",
    "    <= işleci “küçük eşittir” anlamına geliyor.\n",
    "\n",
    "    != işleci “eşit değildir” anlamına geliyor. (örn. “2 * 2 != 5”)\n",
    "\n",
    "    and işleci “ve” anlamına geliyor.\n",
    "\n",
    "    or işleci “veya” anlamına geliyor.\n",
    "\n",
    "    not işleci “değil” anlamına geliyor.\n",
    "\n",
    "    True işleci “Doğru” anlamına geliyor.\n",
    "\n",
    "    False işleci “Yanlış” anlamına geliyor.\n"
   ]
  },
  {
   "cell_type": "markdown",
   "metadata": {},
   "source": [
    "### while döngüsü"
   ]
  },
  {
   "cell_type": "code",
   "execution_count": null,
   "metadata": {
    "collapsed": true
   },
   "outputs": [],
   "source": [
    "#!/usr/bin/env python\n",
    "# -*- coding: utf-8 -*-\n",
    "\n",
    "a = 0\n",
    "\n",
    "while a < 100:\n",
    "     a = a + 1\n",
    "     print a"
   ]
  },
  {
   "cell_type": "markdown",
   "metadata": {},
   "source": [
    "Bu kodu çalıştırdığımızda, 1’den 100’e kadar olan sayıların ekrana yazdırıldığını görürüz.\n",
    "\n",
    "Konuyu anlayabilmek için şimdi de satırları teker teker inceleyelim:\n",
    "\n",
    "İlk satırda, 0 değerine sahip bir “a” değişkeni tanımladık.\n",
    "\n",
    "İkinci ve üçüncü satırlarda, “a değişkeninin değeri 100 sayısından küçük olduğu müddetçe a değişkeninin değerine 1 ekle,” cümlesini Python’caya çevirdik.\n",
    "\n",
    "Son satırda ise, bu yeni “a” değerini ekrana yazdırdık.\n",
    "\n",
    "İşte bu noktada while döngüsünün faziletlerini görüyoruz. Bu döngü sayesinde programımız son satıra her gelişinde başa dönüyor. Yani:\n",
    "\n",
    "    “a” değişkeninin değerini kontrol ediyor,\n",
    "    “a”nın 0 olduğunu görüyor,\n",
    "    “a” değerinin 100’den küçük olduğunu idrak ediyor,\n",
    "    “a” değerine 1 ekliyor (0 + 1 = 1),\n",
    "    Bu değeri ekrana yazdırıyor (1),\n",
    "    Başa dönüp tekrar “a” değişkeninin değerini kontrol ediyor,\n",
    "    “a”nın şu anda 1 olduğunu görüyor,\n",
    "    “a” değerinin hâlâ 100’den küçük olduğunu anlıyor,\n",
    "    “a” değerine 1 ekliyor (1 + 1 = 2),\n",
    "    Bu değeri ekrana yazdırıyor (2),\n",
    "    Bu işlemi 99 sayısına ulaşana dek tekrarlıyor ve en sonunda bu sayıya da 1 ekleyerek vuslata eriyor.\n"
   ]
  },
  {
   "cell_type": "code",
   "execution_count": null,
   "metadata": {
    "collapsed": true
   },
   "outputs": [],
   "source": [
    "while True:\n",
    "    # Buraya girilecek işlem sonsuza dek uygulanacaktır."
   ]
  },
  {
   "cell_type": "code",
   "execution_count": 2,
   "metadata": {
    "collapsed": false
   },
   "outputs": [
    {
     "name": "stdout",
     "output_type": "stream",
     "text": [
      "En iyi programlama dili nedir?\n",
      "Python\n"
     ]
    }
   ],
   "source": [
    "#!/usr/bin/env python\n",
    "# -*- coding: utf-8 -*-\n",
    "\n",
    "soru = raw_input(\"En iyi programlama dili nedir?\\n\")\n",
    "\n",
    "if soru != \"Python\":\n",
    "    print \"Yanlış cevap!\"\n"
   ]
  },
  {
   "cell_type": "markdown",
   "metadata": {},
   "source": [
    "### range() fonsiyonu"
   ]
  },
  {
   "cell_type": "markdown",
   "metadata": {},
   "source": [
    "##### İngilizce olan 'range' kelimesi Türkçe'ye 'alan' olarak çevrilebilir. Bu ifade bize işlem yapmak istediğimiz sınırı belirleme konusunda yardımcı olur. "
   ]
  },
  {
   "cell_type": "code",
   "execution_count": 3,
   "metadata": {
    "collapsed": false
   },
   "outputs": [
    {
     "name": "stdout",
     "output_type": "stream",
     "text": [
      "[0, 1, 2]\n"
     ]
    }
   ],
   "source": [
    "print range(3)"
   ]
  },
  {
   "cell_type": "code",
   "execution_count": 4,
   "metadata": {
    "collapsed": false
   },
   "outputs": [
    {
     "name": "stdout",
     "output_type": "stream",
     "text": [
      "[1, 2, 3, 4]\n"
     ]
    }
   ],
   "source": [
    "print range(1,5)"
   ]
  },
  {
   "cell_type": "code",
   "execution_count": 5,
   "metadata": {
    "collapsed": false
   },
   "outputs": [
    {
     "name": "stdout",
     "output_type": "stream",
     "text": [
      "[1, 3, 5, 7, 9]\n"
     ]
    }
   ],
   "source": [
    "print range(1,10,2)"
   ]
  },
  {
   "cell_type": "markdown",
   "metadata": {},
   "source": [
    "### for döngüsü"
   ]
  },
  {
   "cell_type": "markdown",
   "metadata": {},
   "source": [
    "##### for döngüsü while döngüsü ile benzer özellikte bir döngüdür. Bir durum gerçekleştiği sürece bir işlemi tekrar ve tekrar gerçekleştirmemizi sağlar. Yukarıda 1'den 100'e kadar sayıları yazdırmak için while ile yaptığımız örneğin aynısını for ile 1'den 5'e kadar olan sayılar için şu şekilde uygularız:"
   ]
  },
  {
   "cell_type": "code",
   "execution_count": 6,
   "metadata": {
    "collapsed": false
   },
   "outputs": [
    {
     "name": "stdout",
     "output_type": "stream",
     "text": [
      "1\n",
      "2\n",
      "3\n",
      "4\n"
     ]
    }
   ],
   "source": [
    "#!/usr/bin/env python\n",
    "# -*- coding: utf-8 -*-\n",
    "\n",
    "for i in range(1, 5):\n",
    "     print i\n"
   ]
  },
  {
   "cell_type": "code",
   "execution_count": 7,
   "metadata": {
    "collapsed": false,
    "scrolled": true
   },
   "outputs": [
    {
     "name": "stdout",
     "output_type": "stream",
     "text": [
      "G\n",
      "N\n",
      "U\n",
      "/\n",
      "L\n",
      "i\n",
      "n\n",
      "u\n",
      "x\n"
     ]
    }
   ],
   "source": [
    "#!/usr/bin/env python\n",
    "# -*- coding: utf-8 -*-\n",
    "\n",
    "for kelimeler in \"GNU/Linux\":\n",
    "    print kelimeler"
   ]
  },
  {
   "cell_type": "markdown",
   "metadata": {},
   "source": [
    "## break işlemi"
   ]
  },
  {
   "cell_type": "markdown",
   "metadata": {},
   "source": [
    "##### break işlemi bir döngüyü sona erdirmek gerektiği zaman kullanılır."
   ]
  },
  {
   "cell_type": "code",
   "execution_count": 9,
   "metadata": {
    "collapsed": false
   },
   "outputs": [
    {
     "name": "stdout",
     "output_type": "stream",
     "text": [
      "Kullanıcı adı: at\n",
      "Parola: tavşan\n",
      "Kullanıcı adınız veya parolanız yanlış.\n",
      "Lütfen tekrar deneyiniz!\n",
      "Kullanıcı adı: kullanici\n",
      "Parola: parola\n",
      "Kullanıcı adı ve parolanız onaylandı.\n"
     ]
    }
   ],
   "source": [
    "#!/usr/bin/env python\n",
    "# -*- coding: utf-8 -*-\n",
    "\n",
    "kullanici_adi = \"kullanici\"\n",
    "parola = \"parola\"\n",
    "\n",
    "while True:\n",
    "     soru1 = raw_input(\"Kullanıcı adı: \")\n",
    "     soru2 = raw_input(\"Parola: \")\n",
    "\n",
    "     if soru1 == kullanici_adi and soru2 == parola:\n",
    "        print \"Kullanıcı adı ve parolanız onaylandı.\"\n",
    "        break\n",
    "     else:\n",
    "        print \"Kullanıcı adınız veya parolanız yanlış.\"\n",
    "        print \"Lütfen tekrar deneyiniz!\"\n"
   ]
  },
  {
   "cell_type": "markdown",
   "metadata": {},
   "source": [
    "## continue işlemi"
   ]
  },
  {
   "cell_type": "markdown",
   "metadata": {},
   "source": [
    "##### Bu işlem ise döngü içinde kendisinden sonra gelen her şeyin es geçilip döngünün en başına dönülmesini sağlar."
   ]
  },
  {
   "cell_type": "code",
   "execution_count": 10,
   "metadata": {
    "collapsed": false,
    "scrolled": true
   },
   "outputs": [
    {
     "name": "stdout",
     "output_type": "stream",
     "text": [
      "Bir sayı girin: 12\n",
      "Bir sayı girin: 34\n",
      "Bir sayı girin: 876\n",
      "Bir sayı girin: 9876\n",
      "En fazla üç haneli bir sayı girin.\n",
      "Bir sayı girin: iptal\n"
     ]
    }
   ],
   "source": [
    "#!/usr/bin/env python\n",
    "# -*- coding: utf-8 -*-\n",
    "\n",
    "while True:\n",
    "     s = raw_input(\"Bir sayı girin: \")\n",
    "     if s == \"iptal\":\n",
    "        break\n",
    "     if len(s) <= 3:# len() fonksiyonu aldığı verinin karakter sayısını verir.\n",
    "        continue\n",
    "     print \"En fazla üç haneli bir sayı girin.\"\n"
   ]
  },
  {
   "cell_type": "markdown",
   "metadata": {},
   "source": [
    "### type() fonsiyonu"
   ]
  },
  {
   "cell_type": "code",
   "execution_count": 2,
   "metadata": {
    "collapsed": false
   },
   "outputs": [
    {
     "data": {
      "text/plain": [
       "int"
      ]
     },
     "execution_count": 2,
     "metadata": {},
     "output_type": "execute_result"
    }
   ],
   "source": [
    "type(123)"
   ]
  },
  {
   "cell_type": "code",
   "execution_count": 3,
   "metadata": {
    "collapsed": false
   },
   "outputs": [
    {
     "data": {
      "text/plain": [
       "str"
      ]
     },
     "execution_count": 3,
     "metadata": {},
     "output_type": "execute_result"
    }
   ],
   "source": [
    "type(\"Python\")"
   ]
  },
  {
   "cell_type": "markdown",
   "metadata": {},
   "source": [
    "## Python’da Listeler, Demetler ve Sözlükler"
   ]
  },
  {
   "cell_type": "markdown",
   "metadata": {},
   "source": [
    "### Listeler"
   ]
  },
  {
   "cell_type": "code",
   "execution_count": 1,
   "metadata": {
    "collapsed": true
   },
   "outputs": [],
   "source": [
    "liste = [\"Python\", \"Django\", \"PHP\", 100, 97]"
   ]
  },
  {
   "cell_type": "code",
   "execution_count": 4,
   "metadata": {
    "collapsed": false
   },
   "outputs": [
    {
     "data": {
      "text/plain": [
       "'Python'"
      ]
     },
     "execution_count": 4,
     "metadata": {},
     "output_type": "execute_result"
    }
   ],
   "source": [
    "liste[0]"
   ]
  },
  {
   "cell_type": "code",
   "execution_count": 5,
   "metadata": {
    "collapsed": false
   },
   "outputs": [
    {
     "data": {
      "text/plain": [
       "100"
      ]
     },
     "execution_count": 5,
     "metadata": {},
     "output_type": "execute_result"
    }
   ],
   "source": [
    "liste[3]"
   ]
  },
  {
   "cell_type": "code",
   "execution_count": 6,
   "metadata": {
    "collapsed": false
   },
   "outputs": [
    {
     "data": {
      "text/plain": [
       "str"
      ]
     },
     "execution_count": 6,
     "metadata": {},
     "output_type": "execute_result"
    }
   ],
   "source": [
    "type(liste[2])"
   ]
  },
  {
   "cell_type": "code",
   "execution_count": 7,
   "metadata": {
    "collapsed": false
   },
   "outputs": [
    {
     "data": {
      "text/plain": [
       "5"
      ]
     },
     "execution_count": 7,
     "metadata": {},
     "output_type": "execute_result"
    }
   ],
   "source": [
    "len(liste)"
   ]
  },
  {
   "cell_type": "markdown",
   "metadata": {},
   "source": [
    "### Listelerde kullanılabilen önemli fonsiyonlar"
   ]
  },
  {
   "cell_type": "markdown",
   "metadata": {},
   "source": [
    "#### insert()"
   ]
  },
  {
   "cell_type": "markdown",
   "metadata": {},
   "source": [
    "##### Listenin istediğimiz yerine eleman eklememizi sağlar."
   ]
  },
  {
   "cell_type": "code",
   "execution_count": 16,
   "metadata": {
    "collapsed": true
   },
   "outputs": [],
   "source": [
    "liste.insert(3,\"Ruby\")"
   ]
  },
  {
   "cell_type": "code",
   "execution_count": 17,
   "metadata": {
    "collapsed": false
   },
   "outputs": [
    {
     "data": {
      "text/plain": [
       "['Python', 'Django', 'PHP', 'Ruby', 100, 97]"
      ]
     },
     "execution_count": 17,
     "metadata": {},
     "output_type": "execute_result"
    }
   ],
   "source": [
    "liste"
   ]
  },
  {
   "cell_type": "code",
   "execution_count": 18,
   "metadata": {
    "collapsed": true
   },
   "outputs": [],
   "source": [
    "liste.insert(0,\"HTML\")"
   ]
  },
  {
   "cell_type": "code",
   "execution_count": 19,
   "metadata": {
    "collapsed": false
   },
   "outputs": [
    {
     "data": {
      "text/plain": [
       "['HTML', 'Python', 'Django', 'PHP', 'Ruby', 100, 97]"
      ]
     },
     "execution_count": 19,
     "metadata": {},
     "output_type": "execute_result"
    }
   ],
   "source": [
    "liste"
   ]
  },
  {
   "cell_type": "markdown",
   "metadata": {},
   "source": [
    "### extend()"
   ]
  },
  {
   "cell_type": "markdown",
   "metadata": {},
   "source": [
    "##### Eklemek anlamına gelen bu ifade, iki listeyi birbirine ekler."
   ]
  },
  {
   "cell_type": "code",
   "execution_count": 20,
   "metadata": {
    "collapsed": true
   },
   "outputs": [],
   "source": [
    "yeni_liste = [13, 41, \"Perl\"]"
   ]
  },
  {
   "cell_type": "code",
   "execution_count": 21,
   "metadata": {
    "collapsed": true
   },
   "outputs": [],
   "source": [
    "liste.extend(yeni_liste)"
   ]
  },
  {
   "cell_type": "code",
   "execution_count": 36,
   "metadata": {
    "collapsed": false
   },
   "outputs": [
    {
     "data": {
      "text/plain": [
       "['HTML', 'Python', 'Django', 'PHP', 'Ruby', 100, 97, 13, 41, 'Perl']"
      ]
     },
     "execution_count": 36,
     "metadata": {},
     "output_type": "execute_result"
    }
   ],
   "source": [
    "liste"
   ]
  },
  {
   "cell_type": "markdown",
   "metadata": {},
   "source": [
    "### append()"
   ]
  },
  {
   "cell_type": "markdown",
   "metadata": {},
   "source": [
    "##### Listenin sonuna eleman eklememizi sağlar."
   ]
  },
  {
   "cell_type": "code",
   "execution_count": 37,
   "metadata": {
    "collapsed": false
   },
   "outputs": [],
   "source": [
    "liste.append(\"RMS\")"
   ]
  },
  {
   "cell_type": "code",
   "execution_count": 38,
   "metadata": {
    "collapsed": false
   },
   "outputs": [
    {
     "data": {
      "text/plain": [
       "['HTML', 'Python', 'Django', 'PHP', 'Ruby', 100, 97, 13, 41, 'Perl', 'RMS']"
      ]
     },
     "execution_count": 38,
     "metadata": {},
     "output_type": "execute_result"
    }
   ],
   "source": [
    "liste"
   ]
  },
  {
   "cell_type": "markdown",
   "metadata": {},
   "source": [
    "### remove()"
   ]
  },
  {
   "cell_type": "markdown",
   "metadata": {},
   "source": [
    "##### Listedeki bir öğeyi kaldırmak için kullanılan komuttur. "
   ]
  },
  {
   "cell_type": "code",
   "execution_count": 39,
   "metadata": {
    "collapsed": true
   },
   "outputs": [],
   "source": [
    "liste.remove(\"PHP\")"
   ]
  },
  {
   "cell_type": "code",
   "execution_count": 40,
   "metadata": {
    "collapsed": false
   },
   "outputs": [
    {
     "data": {
      "text/plain": [
       "['HTML', 'Python', 'Django', 'Ruby', 100, 97, 13, 41, 'Perl', 'RMS']"
      ]
     },
     "execution_count": 40,
     "metadata": {},
     "output_type": "execute_result"
    }
   ],
   "source": [
    "liste"
   ]
  },
  {
   "cell_type": "markdown",
   "metadata": {},
   "source": [
    "##### Eğer listeden verilen değerden birden çok varsa, komut ilk bulduğu değeri silecektir."
   ]
  },
  {
   "cell_type": "markdown",
   "metadata": {},
   "source": [
    "### pop()"
   ]
  },
  {
   "cell_type": "markdown",
   "metadata": {},
   "source": [
    "##### Listedeki sırasını vererek bir öğenin çıkartılmasını sağlayan komuttur. Ayrıca çıkarttığımız değeri ekrana basar."
   ]
  },
  {
   "cell_type": "code",
   "execution_count": 41,
   "metadata": {
    "collapsed": false
   },
   "outputs": [
    {
     "data": {
      "text/plain": [
       "13"
      ]
     },
     "execution_count": 41,
     "metadata": {},
     "output_type": "execute_result"
    }
   ],
   "source": [
    "liste.pop(6)"
   ]
  },
  {
   "cell_type": "code",
   "execution_count": 42,
   "metadata": {
    "collapsed": false
   },
   "outputs": [
    {
     "data": {
      "text/plain": [
       "['HTML', 'Python', 'Django', 'Ruby', 100, 97, 41, 'Perl', 'RMS']"
      ]
     },
     "execution_count": 42,
     "metadata": {},
     "output_type": "execute_result"
    }
   ],
   "source": [
    "liste"
   ]
  },
  {
   "cell_type": "markdown",
   "metadata": {},
   "source": [
    "### Diğer sık kullanılan fonksiyonlar ve işlevleri"
   ]
  },
  {
   "cell_type": "markdown",
   "metadata": {},
   "source": [
    "##### index() --> Listedeki bir elemanın sırasını bulmamızı sağlar."
   ]
  },
  {
   "cell_type": "markdown",
   "metadata": {},
   "source": [
    "##### sort() --> Elemanları alfabetik olarak sıralar."
   ]
  },
  {
   "cell_type": "markdown",
   "metadata": {},
   "source": [
    "##### reverse() --> Elemanların sırasını terine çevirir."
   ]
  },
  {
   "cell_type": "markdown",
   "metadata": {},
   "source": [
    "##### count() --> Bir elemanın listede kaç kez tekrar ettiğini gösterir."
   ]
  },
  {
   "cell_type": "markdown",
   "metadata": {},
   "source": [
    "### Listelerde eleman çağırma yolları"
   ]
  },
  {
   "cell_type": "code",
   "execution_count": 43,
   "metadata": {
    "collapsed": false
   },
   "outputs": [
    {
     "data": {
      "text/plain": [
       "['HTML', 'Python', 'Django', 'Ruby', 100, 97, 41, 'Perl', 'RMS']"
      ]
     },
     "execution_count": 43,
     "metadata": {},
     "output_type": "execute_result"
    }
   ],
   "source": [
    "liste"
   ]
  },
  {
   "cell_type": "code",
   "execution_count": 44,
   "metadata": {
    "collapsed": false
   },
   "outputs": [
    {
     "data": {
      "text/plain": [
       "'HTML'"
      ]
     },
     "execution_count": 44,
     "metadata": {},
     "output_type": "execute_result"
    }
   ],
   "source": [
    "liste[0] # İlk eleman"
   ]
  },
  {
   "cell_type": "code",
   "execution_count": 45,
   "metadata": {
    "collapsed": false
   },
   "outputs": [
    {
     "data": {
      "text/plain": [
       "'RMS'"
      ]
     },
     "execution_count": 45,
     "metadata": {},
     "output_type": "execute_result"
    }
   ],
   "source": [
    "liste[-1] # Son eleman"
   ]
  },
  {
   "cell_type": "code",
   "execution_count": 46,
   "metadata": {
    "collapsed": false
   },
   "outputs": [
    {
     "data": {
      "text/plain": [
       "'Django'"
      ]
     },
     "execution_count": 46,
     "metadata": {},
     "output_type": "execute_result"
    }
   ],
   "source": [
    "liste[2] # 3. eleman"
   ]
  },
  {
   "cell_type": "code",
   "execution_count": 49,
   "metadata": {
    "collapsed": false
   },
   "outputs": [
    {
     "data": {
      "text/plain": [
       "41"
      ]
     },
     "execution_count": 49,
     "metadata": {},
     "output_type": "execute_result"
    }
   ],
   "source": [
    "liste[-3] # Sondan 3. eleman"
   ]
  },
  {
   "cell_type": "code",
   "execution_count": 51,
   "metadata": {
    "collapsed": false
   },
   "outputs": [
    {
     "data": {
      "text/plain": [
       "['Django', 'Ruby']"
      ]
     },
     "execution_count": 51,
     "metadata": {},
     "output_type": "execute_result"
    }
   ],
   "source": [
    "liste[2:4] # 3. elamandan 5. elemana kadar (5 hariç)"
   ]
  },
  {
   "cell_type": "code",
   "execution_count": 53,
   "metadata": {
    "collapsed": false
   },
   "outputs": [
    {
     "data": {
      "text/plain": [
       "['HTML', 'Python', 'Django']"
      ]
     },
     "execution_count": 53,
     "metadata": {},
     "output_type": "execute_result"
    }
   ],
   "source": [
    "liste[:3] # İlk elemandan 4. elemana kadar (4 hariç)"
   ]
  },
  {
   "cell_type": "code",
   "execution_count": 54,
   "metadata": {
    "collapsed": false
   },
   "outputs": [
    {
     "data": {
      "text/plain": [
       "['Django', 'Ruby', 100, 97, 41, 'Perl', 'RMS']"
      ]
     },
     "execution_count": 54,
     "metadata": {},
     "output_type": "execute_result"
    }
   ],
   "source": [
    "liste[2:] # 3. elemanda listenin sonuna kadar (Son eleman dahil)"
   ]
  },
  {
   "cell_type": "code",
   "execution_count": 70,
   "metadata": {
    "collapsed": false
   },
   "outputs": [],
   "source": [
    "liste[-3] = 42 # Elemanı değiştirmek için"
   ]
  },
  {
   "cell_type": "code",
   "execution_count": 72,
   "metadata": {
    "collapsed": false
   },
   "outputs": [
    {
     "data": {
      "text/plain": [
       "['HTML', 'Python', 'Django', 'Ruby', 100, 97, 42, 'Perl', 'RMS']"
      ]
     },
     "execution_count": 72,
     "metadata": {},
     "output_type": "execute_result"
    }
   ],
   "source": [
    "liste"
   ]
  },
  {
   "cell_type": "code",
   "execution_count": 73,
   "metadata": {
    "collapsed": true
   },
   "outputs": [],
   "source": [
    "liste[3:3] = [\"GNU\", \"Linux\"] # 4. elaman olarak birden çok öğe eklemek için."
   ]
  },
  {
   "cell_type": "code",
   "execution_count": 75,
   "metadata": {
    "collapsed": false
   },
   "outputs": [
    {
     "data": {
      "text/plain": [
       "['HTML',\n",
       " 'Python',\n",
       " 'Django',\n",
       " 'GNU',\n",
       " 'Linux',\n",
       " 'Ruby',\n",
       " 100,\n",
       " 97,\n",
       " 42,\n",
       " 'Perl',\n",
       " 'RMS']"
      ]
     },
     "execution_count": 75,
     "metadata": {},
     "output_type": "execute_result"
    }
   ],
   "source": [
    "liste # Ekrana düz şekilde sığmadığı için böyle bir çıktı aldık :D"
   ]
  },
  {
   "cell_type": "markdown",
   "metadata": {},
   "source": [
    "## Demetler"
   ]
  },
  {
   "cell_type": "markdown",
   "metadata": {},
   "source": [
    "##### Demetler listelere çok benzer fakat aralarında çok önemli bir fark vardır. Demetlere ekleme ve çıkartma yapılamaz."
   ]
  },
  {
   "cell_type": "code",
   "execution_count": 76,
   "metadata": {
    "collapsed": true
   },
   "outputs": [],
   "source": [
    "demet = ()"
   ]
  },
  {
   "cell_type": "code",
   "execution_count": 77,
   "metadata": {
    "collapsed": false
   },
   "outputs": [
    {
     "data": {
      "text/plain": [
       "tuple"
      ]
     },
     "execution_count": 77,
     "metadata": {},
     "output_type": "execute_result"
    }
   ],
   "source": [
    "type(demet)"
   ]
  },
  {
   "cell_type": "code",
   "execution_count": 85,
   "metadata": {
    "collapsed": true
   },
   "outputs": [],
   "source": [
    "demet = \"Python\", \"Django\", 13, 42"
   ]
  },
  {
   "cell_type": "code",
   "execution_count": 80,
   "metadata": {
    "collapsed": false
   },
   "outputs": [
    {
     "data": {
      "text/plain": [
       "tuple"
      ]
     },
     "execution_count": 80,
     "metadata": {},
     "output_type": "execute_result"
    }
   ],
   "source": [
    "type(demet)"
   ]
  },
  {
   "cell_type": "code",
   "execution_count": 83,
   "metadata": {
    "collapsed": true
   },
   "outputs": [],
   "source": [
    "demet = (\"Python\", \"Django\", 13, 42)"
   ]
  },
  {
   "cell_type": "code",
   "execution_count": 86,
   "metadata": {
    "collapsed": false
   },
   "outputs": [
    {
     "data": {
      "text/plain": [
       "('Python', 'Django', 13, 42)"
      ]
     },
     "execution_count": 86,
     "metadata": {},
     "output_type": "execute_result"
    }
   ],
   "source": [
    "demet"
   ]
  },
  {
   "cell_type": "markdown",
   "metadata": {},
   "source": [
    "##### Eğer tek elemanlı bir demet oluşturmak istiyorsak, elemandan sonra virgül koymamız gerekir. Aksi halde demetin bir değişkenden farkı kalmaz."
   ]
  },
  {
   "cell_type": "code",
   "execution_count": 87,
   "metadata": {
    "collapsed": true
   },
   "outputs": [],
   "source": [
    "demet2 = (\"su\")"
   ]
  },
  {
   "cell_type": "code",
   "execution_count": 88,
   "metadata": {
    "collapsed": false
   },
   "outputs": [
    {
     "data": {
      "text/plain": [
       "str"
      ]
     },
     "execution_count": 88,
     "metadata": {},
     "output_type": "execute_result"
    }
   ],
   "source": [
    "type(demet2)"
   ]
  },
  {
   "cell_type": "code",
   "execution_count": 92,
   "metadata": {
    "collapsed": false
   },
   "outputs": [],
   "source": [
    "demet2= (\"su\",)"
   ]
  },
  {
   "cell_type": "code",
   "execution_count": 93,
   "metadata": {
    "collapsed": false
   },
   "outputs": [
    {
     "data": {
      "text/plain": [
       "tuple"
      ]
     },
     "execution_count": 93,
     "metadata": {},
     "output_type": "execute_result"
    }
   ],
   "source": [
    "type(demet2)"
   ]
  },
  {
   "cell_type": "markdown",
   "metadata": {},
   "source": [
    "##### Demetlerde paketleme ve açma işlemleri vardır. Bir demetin içine eleman atamak bir paketleme işlemidir, elemanları farklı değişkenlere atamaksa bir açma işlemidir."
   ]
  },
  {
   "cell_type": "code",
   "execution_count": 111,
   "metadata": {
    "collapsed": true
   },
   "outputs": [],
   "source": [
    "aile = \"Anne\", \"Baba\", \"Evlat\" # Paketleme"
   ]
  },
  {
   "cell_type": "code",
   "execution_count": 116,
   "metadata": {
    "collapsed": true
   },
   "outputs": [],
   "source": [
    "a, b, c = aile # Açma"
   ]
  },
  {
   "cell_type": "code",
   "execution_count": 113,
   "metadata": {
    "collapsed": false
   },
   "outputs": [
    {
     "data": {
      "text/plain": [
       "'Anne'"
      ]
     },
     "execution_count": 113,
     "metadata": {},
     "output_type": "execute_result"
    }
   ],
   "source": [
    "a"
   ]
  },
  {
   "cell_type": "code",
   "execution_count": 114,
   "metadata": {
    "collapsed": false
   },
   "outputs": [
    {
     "data": {
      "text/plain": [
       "'Evlat'"
      ]
     },
     "execution_count": 114,
     "metadata": {},
     "output_type": "execute_result"
    }
   ],
   "source": [
    "c"
   ]
  },
  {
   "cell_type": "code",
   "execution_count": 115,
   "metadata": {
    "collapsed": false
   },
   "outputs": [
    {
     "data": {
      "text/plain": [
       "'Baba'"
      ]
     },
     "execution_count": 115,
     "metadata": {},
     "output_type": "execute_result"
    }
   ],
   "source": [
    "b"
   ]
  },
  {
   "cell_type": "code",
   "execution_count": 106,
   "metadata": {
    "collapsed": true
   },
   "outputs": [],
   "source": [
    "degerler = (1, 'd', \"ef\")"
   ]
  },
  {
   "cell_type": "code",
   "execution_count": 107,
   "metadata": {
    "collapsed": true
   },
   "outputs": [],
   "source": [
    "x, y, z = degerler"
   ]
  },
  {
   "cell_type": "code",
   "execution_count": 108,
   "metadata": {
    "collapsed": false
   },
   "outputs": [
    {
     "data": {
      "text/plain": [
       "1"
      ]
     },
     "execution_count": 108,
     "metadata": {},
     "output_type": "execute_result"
    }
   ],
   "source": [
    "x"
   ]
  },
  {
   "cell_type": "code",
   "execution_count": 109,
   "metadata": {
    "collapsed": false
   },
   "outputs": [
    {
     "data": {
      "text/plain": [
       "'d'"
      ]
     },
     "execution_count": 109,
     "metadata": {},
     "output_type": "execute_result"
    }
   ],
   "source": [
    "y"
   ]
  },
  {
   "cell_type": "code",
   "execution_count": 110,
   "metadata": {
    "collapsed": false
   },
   "outputs": [
    {
     "data": {
      "text/plain": [
       "'ef'"
      ]
     },
     "execution_count": 110,
     "metadata": {},
     "output_type": "execute_result"
    }
   ],
   "source": [
    "z"
   ]
  },
  {
   "cell_type": "markdown",
   "metadata": {},
   "source": [
    "## Sözlükler"
   ]
  },
  {
   "cell_type": "markdown",
   "metadata": {},
   "source": [
    "##### Sözlük, anahtar-değer ilişkisi içinde veri tutabildiğimiz birer veri depolama şeklidir. Örnek üzerinde daha iyi anlayacağız."
   ]
  },
  {
   "cell_type": "code",
   "execution_count": 132,
   "metadata": {
    "collapsed": false
   },
   "outputs": [],
   "source": [
    "telefon_numarasi = {\"Ahmet\": \"0555 555 55 55\", \"Dora\": \"0545 454 54 54\", \"Emir\": \"0533 333 33 33\" }"
   ]
  },
  {
   "cell_type": "code",
   "execution_count": 122,
   "metadata": {
    "collapsed": false
   },
   "outputs": [
    {
     "data": {
      "text/plain": [
       "dict"
      ]
     },
     "execution_count": 122,
     "metadata": {},
     "output_type": "execute_result"
    }
   ],
   "source": [
    "type(telefon_numarasi)"
   ]
  },
  {
   "cell_type": "markdown",
   "metadata": {},
   "source": [
    "##### Bu örnekte kişi isimleri bizim anahtarlarımızken, telefon numarası bizim değerlerimizdir."
   ]
  },
  {
   "cell_type": "code",
   "execution_count": 120,
   "metadata": {
    "collapsed": false
   },
   "outputs": [
    {
     "data": {
      "text/plain": [
       "'0545 454 54 54'"
      ]
     },
     "execution_count": 120,
     "metadata": {},
     "output_type": "execute_result"
    }
   ],
   "source": [
    "telefon_numarasi[\"Dora\"]"
   ]
  },
  {
   "cell_type": "code",
   "execution_count": 121,
   "metadata": {
    "collapsed": false,
    "scrolled": true
   },
   "outputs": [
    {
     "data": {
      "text/plain": [
       "'0555 555 55 55'"
      ]
     },
     "execution_count": 121,
     "metadata": {},
     "output_type": "execute_result"
    }
   ],
   "source": [
    "telefon_numarasi[\"Ahmet\"]"
   ]
  },
  {
   "cell_type": "code",
   "execution_count": 134,
   "metadata": {
    "collapsed": true
   },
   "outputs": [],
   "source": [
    "telefon_numarasi[\"Duygu\"] = \"0544 444 44 44\""
   ]
  },
  {
   "cell_type": "code",
   "execution_count": 135,
   "metadata": {
    "collapsed": false
   },
   "outputs": [
    {
     "data": {
      "text/plain": [
       "{'Ahmet': '0555 555 55 55',\n",
       " 'Dora': '0545 454 54 54',\n",
       " 'Duygu': '0544 444 44 44',\n",
       " 'Emir': '0533 333 33 33'}"
      ]
     },
     "execution_count": 135,
     "metadata": {},
     "output_type": "execute_result"
    }
   ],
   "source": [
    "telefon_numarasi"
   ]
  },
  {
   "cell_type": "markdown",
   "metadata": {},
   "source": [
    "##### Sadece anahtarları veya sadece değerleri görmek için:"
   ]
  },
  {
   "cell_type": "code",
   "execution_count": 136,
   "metadata": {
    "collapsed": false
   },
   "outputs": [
    {
     "data": {
      "text/plain": [
       "['Ahmet', 'Emir', 'Dora', 'Duygu']"
      ]
     },
     "execution_count": 136,
     "metadata": {},
     "output_type": "execute_result"
    }
   ],
   "source": [
    "telefon_numarasi.keys()"
   ]
  },
  {
   "cell_type": "code",
   "execution_count": 137,
   "metadata": {
    "collapsed": false
   },
   "outputs": [
    {
     "data": {
      "text/plain": [
       "['0555 555 55 55', '0533 333 33 33', '0545 454 54 54', '0544 444 44 44']"
      ]
     },
     "execution_count": 137,
     "metadata": {},
     "output_type": "execute_result"
    }
   ],
   "source": [
    "telefon_numarasi.values()"
   ]
  },
  {
   "cell_type": "markdown",
   "metadata": {},
   "source": [
    "##### Bir öğeyi silmek için:"
   ]
  },
  {
   "cell_type": "code",
   "execution_count": 138,
   "metadata": {
    "collapsed": true
   },
   "outputs": [],
   "source": [
    "del telefon_numarasi[\"Emir\"]"
   ]
  },
  {
   "cell_type": "code",
   "execution_count": 139,
   "metadata": {
    "collapsed": false
   },
   "outputs": [
    {
     "data": {
      "text/plain": [
       "{'Ahmet': '0555 555 55 55',\n",
       " 'Dora': '0545 454 54 54',\n",
       " 'Duygu': '0544 444 44 44'}"
      ]
     },
     "execution_count": 139,
     "metadata": {},
     "output_type": "execute_result"
    }
   ],
   "source": [
    "telefon_numarasi"
   ]
  },
  {
   "cell_type": "markdown",
   "metadata": {},
   "source": [
    "##### Bütün sözlüğü temizlemek için ise:"
   ]
  },
  {
   "cell_type": "code",
   "execution_count": 140,
   "metadata": {
    "collapsed": true
   },
   "outputs": [],
   "source": [
    "telefon_numarasi.clear()"
   ]
  },
  {
   "cell_type": "code",
   "execution_count": 141,
   "metadata": {
    "collapsed": false
   },
   "outputs": [
    {
     "data": {
      "text/plain": [
       "{}"
      ]
     },
     "execution_count": 141,
     "metadata": {},
     "output_type": "execute_result"
    }
   ],
   "source": [
    "telefon_numarasi"
   ]
  },
  {
   "cell_type": "markdown",
   "metadata": {},
   "source": [
    "##### Sözlüklerin kullanımı ile alakalı son bir örneğe bakacak olursak;"
   ]
  },
  {
   "cell_type": "code",
   "execution_count": 142,
   "metadata": {
    "collapsed": false
   },
   "outputs": [
    {
     "name": "stdout",
     "output_type": "stream",
     "text": [
      "Şehrinizin adını tamamı küçük harf olacak şekilde yazınız: ankara\n",
      "açık ve güneşli\n"
     ]
    }
   ],
   "source": [
    "#!/usr/bin/env python\n",
    "# -*- coding: utf-8 -*-\n",
    "\n",
    "soru = raw_input(\"Şehrinizin adını tamamı küçük \\\n",
    "harf olacak şekilde yazınız: \")\n",
    "\n",
    "cevap = {\"istanbul\":\"gök gürültülü ve sağanak yağışlı\",\n",
    "         \"ankara\":\"açık ve güneşli\", \"izmir\":\"bulutlu\"}\n",
    "\n",
    "print cevap.get(soru,\"Bu şehre ilişkin havadurumu \\\n",
    "bilgisi bulunmamaktadır.\")\n"
   ]
  },
  {
   "cell_type": "code",
   "execution_count": 143,
   "metadata": {
    "collapsed": false
   },
   "outputs": [
    {
     "name": "stdout",
     "output_type": "stream",
     "text": [
      "Şehrinizin adını tamamı küçük harf olacak şekilde yazınız: akşehir\n",
      "Bu şehre ilişkin havadurumu bilgisi bulunmamaktadır.\n"
     ]
    }
   ],
   "source": [
    "#!/usr/bin/env python\n",
    "# -*- coding: utf-8 -*-\n",
    "\n",
    "soru = raw_input(\"Şehrinizin adını tamamı küçük \\\n",
    "harf olacak şekilde yazınız: \")\n",
    "\n",
    "cevap = {\"istanbul\":\"gök gürültülü ve sağanak yağışlı\",\n",
    "         \"ankara\":\"açık ve güneşli\", \"izmir\":\"bulutlu\"}\n",
    "\n",
    "print cevap.get(soru,\"Bu şehre ilişkin havadurumu \\\n",
    "bilgisi bulunmamaktadır.\")\n"
   ]
  },
  {
   "cell_type": "markdown",
   "metadata": {},
   "source": [
    "##### Gördüğünüz gibi, ilk önce normal biçimde, kullanıcıya sorumuzu soruyoruz. Ardından da “anahtar-değer” çiftleri şeklinde şehir adlarını ve bunlara karşılık gelen hava durumu bilgilerini bir sözlük içinde depoluyoruz. Daha sonra, sözlük metotlarından biri olan get() metodunu seçiyoruz. Bu metot bize sözlük içinde bir değerin varolup olmadığını denetleme imkânının yanısıra, adı geçen değerin sözlük içinde varolmaması durumunda kullanıcıya gösterilecek bir mesaj seçme olanağı da sunar. \n",
    "\n",
    "##### Burada print cevap.get(soru,”Bu şehre ilişkin hava durumu bilgisi bulunmamaktadır.”) satırı yardımıyla “soru” adlı değişkenin değerinin sözlük içinde varolup varolmadığını sorguluyoruz. Eğer kullanıcının girdiği şehir adı sözlüğümüz içinde bir “anahtar” olarak tanımlanmışsa, bu anahtarın değeri ekrana yazdırılacaktır. Eğer kullanıcının girdiği şehir adı sözlüğümüz içinde bulunmuyorsa, bu defa kullanıcıya “Bu şehre ilişkin hava durumu bilgisi bulunmamaktadır.” biçiminde bir mesaj gösterilecektir."
   ]
  },
  {
   "cell_type": "markdown",
   "metadata": {},
   "source": [
    "# Fonksiyonlar"
   ]
  },
  {
   "cell_type": "markdown",
   "metadata": {},
   "source": [
    "##### Fonksiyonlar yapılması gereken bir iş tekrar ve tetkar gerçekleştirilecekse, her seferinde porgramın o kısmını baştan yapmak yerine fonksiyon kullanarak daha rahat kod yazmamızı ve kodlarımızın temiz gözükmesini sağlamak için geliştirilmiştir. Ayrıca bahsi geçen işte herhangi bir hata meydana gelirse, her bir işlem için tek tek hata düzeltmek yerine sadece fonksiyonu değiştirmemiz yeterli olacaktır"
   ]
  },
  {
   "cell_type": "markdown",
   "metadata": {},
   "source": [
    "### Fonksiyon tanımlamak"
   ]
  },
  {
   "cell_type": "code",
   "execution_count": 147,
   "metadata": {
    "collapsed": false
   },
   "outputs": [],
   "source": [
    "def fonksiyon_adi():\n",
    "    print \"Merhaba\""
   ]
  },
  {
   "cell_type": "code",
   "execution_count": 149,
   "metadata": {
    "collapsed": false
   },
   "outputs": [
    {
     "name": "stdout",
     "output_type": "stream",
     "text": [
      "Merhaba\n"
     ]
    }
   ],
   "source": [
    "fonksiyon_adi()"
   ]
  },
  {
   "cell_type": "markdown",
   "metadata": {},
   "source": [
    "##### Bir fonksiyon bu şekilde tanımlanır ve altında gösterildiği gibi çağırılarak kullanılabilir. Biraz daha karmaşık bir örnekte incelersek:"
   ]
  },
  {
   "cell_type": "code",
   "execution_count": 150,
   "metadata": {
    "collapsed": false
   },
   "outputs": [
    {
     "name": "stdout",
     "output_type": "stream",
     "text": [
      "Lütfen bir sayı giriniz: 197565\n",
      "Girdiğiniz sayı bir tek sayıdır!\n"
     ]
    }
   ],
   "source": [
    "#!/usr/bin/env python\n",
    "# -*- coding: utf-8 -*-\n",
    "\n",
    "def tek():\n",
    "    print \"Girdiğiniz sayı bir tek sayıdır!\"\n",
    "def cift():\n",
    "    print \"Girdiğiniz sayı bir çift sayıdır!\"\n",
    "\n",
    "sayi = raw_input(\"Lütfen bir sayı giriniz: \")\n",
    "\n",
    "if int(sayi) % 2 == 0:\n",
    "    cift()\n",
    "else:\n",
    "    tek()"
   ]
  },
  {
   "cell_type": "markdown",
   "metadata": {},
   "source": [
    "### Fonksiyonlarda Parametre Kullanımı"
   ]
  },
  {
   "cell_type": "markdown",
   "metadata": {},
   "source": [
    "##### Fonksiyonlar hiçbir değer almadan çalışabildikleri gibi, bir değer kullanarak da çalışabilirler."
   ]
  },
  {
   "cell_type": "code",
   "execution_count": 158,
   "metadata": {
    "collapsed": false
   },
   "outputs": [],
   "source": [
    "def selamla(isim):\n",
    "    print \"Selam olsun sana %s\" %(isim)"
   ]
  },
  {
   "cell_type": "code",
   "execution_count": 160,
   "metadata": {
    "collapsed": false,
    "scrolled": true
   },
   "outputs": [
    {
     "name": "stdout",
     "output_type": "stream",
     "text": [
      "Selam olsun sana Dora\n"
     ]
    }
   ],
   "source": [
    "selamla(\"Dora\")"
   ]
  },
  {
   "cell_type": "code",
   "execution_count": 164,
   "metadata": {
    "collapsed": false
   },
   "outputs": [],
   "source": [
    "def carp(b):\n",
    "     a = 1\n",
    "\n",
    "     for i in range(b):\n",
    "         a = a * (i+1)\n",
    "\n",
    "     print(a)\n"
   ]
  },
  {
   "cell_type": "code",
   "execution_count": 165,
   "metadata": {
    "collapsed": false
   },
   "outputs": [
    {
     "name": "stdout",
     "output_type": "stream",
     "text": [
      "24\n"
     ]
    }
   ],
   "source": [
    "carp(4)"
   ]
  },
  {
   "cell_type": "code",
   "execution_count": 166,
   "metadata": {
    "collapsed": true
   },
   "outputs": [],
   "source": [
    "def carp(liste):\n",
    "     a = 1\n",
    "\n",
    "     for i in liste:\n",
    "         a = a * i\n",
    "\n",
    "     print(a)\n"
   ]
  },
  {
   "cell_type": "code",
   "execution_count": 167,
   "metadata": {
    "collapsed": false
   },
   "outputs": [
    {
     "name": "stdout",
     "output_type": "stream",
     "text": [
      "600\n"
     ]
    }
   ],
   "source": [
    "carp([3, 4, 10, 5])"
   ]
  }
 ],
 "metadata": {
  "anaconda-cloud": {},
  "kernelspec": {
   "display_name": "Python [conda root]",
   "language": "python",
   "name": "conda-root-py"
  },
  "language_info": {
   "codemirror_mode": {
    "name": "ipython",
    "version": 2
   },
   "file_extension": ".py",
   "mimetype": "text/x-python",
   "name": "python",
   "nbconvert_exporter": "python",
   "pygments_lexer": "ipython2",
   "version": "2.7.12"
  }
 },
 "nbformat": 4,
 "nbformat_minor": 1
}
